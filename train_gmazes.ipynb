{
 "cells": [
  {
   "cell_type": "markdown",
   "id": "3f044ad5",
   "metadata": {},
   "source": [
    "<a href=\"https://colab.research.google.com/github/perrin-isir/xpag-tutorials/blob/main/train_gmazes.ipynb\"> <img align=\"left\" src=\"https://colab.research.google.com/assets/colab-badge.svg\" alt=\"Open in Colab\" title=\"Open in Google Colaboratory\"></a>\n",
    "<a id=\"raw-url\" href=\"https://raw.githubusercontent.com/perrin-isir/xpag-tutorials/main/train_gmazes.ipynb\" download> <img align=\"left\" src=\"https://img.shields.io/badge/Github-Download%20(Right%20click%20%2B%20Save%20link%20as...)-blue\" alt=\"Download (Right click + Save link as)\" title=\"Download Notebook\"></a>"
   ]
  },
  {
   "cell_type": "markdown",
   "id": "d518b23c",
   "metadata": {},
   "source": [
    "**IMPORTANT:** This notebook runs best using a GPU runtime.  \n",
    "In Colab: from the Colab menu, choose Runtime > Change Runtime Type, then select **'GPU'**."
   ]
  },
  {
   "cell_type": "code",
   "execution_count": null,
   "id": "876decd3",
   "metadata": {},
   "outputs": [],
   "source": [
    "# restart runtime in Colab after changing a package version\n",
    "import os\n",
    "from packaging import version\n",
    "from IPython import get_ipython\n",
    "import matplotlib"
   ]
  },
  {
   "cell_type": "code",
   "execution_count": null,
   "id": "edc67714",
   "metadata": {},
   "outputs": [],
   "source": [
    "import os\n",
    "import sys\n",
    "from ipywidgets import interact\n",
    "from IPython.display import display, Image, clear_output\n",
    "import jax\n",
    "# verifying GPU backend for jax:\n",
    "assert(jax.lib.xla_bridge.get_backend().platform == 'gpu')"
   ]
  },
  {
   "cell_type": "markdown",
   "id": "c4292b2e",
   "metadata": {},
   "source": [
    "Flax, Brax, xpag and gym-gmazes imports:"
   ]
  },
  {
   "cell_type": "code",
   "execution_count": null,
   "id": "cfd33c96",
   "metadata": {},
   "outputs": [],
   "source": [
    "# Flax:\n",
    "try:\n",
    "    import flax\n",
    "except ImportError:\n",
    "    if 'google.colab' in str(get_ipython()):\n",
    "        !pip install flax==0.5.0\n",
    "        clear_output()\n",
    "        import flax\n",
    "    else:\n",
    "        sys.exit(\"ImportError: flax not found.\")\n",
    "# Brax (required dependency of xpag):\n",
    "try:\n",
    "    import brax\n",
    "except ImportError:\n",
    "    if 'google.colab' in str(get_ipython()):\n",
    "        !pip install git+https://github.com/google/brax.git\n",
    "        clear_output()\n",
    "        import brax\n",
    "    else:\n",
    "        sys.exit(\"ImportError: brax not found.\")\n",
    "# xpag:\n",
    "try:\n",
    "    import xpag\n",
    "except ImportError:\n",
    "    if 'google.colab' in str(get_ipython()):\n",
    "        !pip install git+https://github.com/perrin-isir/xpag.git\n",
    "        clear_output()\n",
    "        import xpag\n",
    "    else:\n",
    "        sys.exit(\"ImportError: xpag not found.\")\n",
    "from xpag.wrappers import gym_vec_env\n",
    "from xpag.buffers import DefaultEpisodicBuffer\n",
    "from xpag.samplers import DefaultEpisodicSampler, HER\n",
    "from xpag.setters import DefaultSetter\n",
    "from xpag.agents import TQC\n",
    "from xpag.tools import learn\n",
    "# gym-gmazes:\n",
    "try:\n",
    "    import gym_gmazes\n",
    "except ImportError:\n",
    "    if 'google.colab' in str(get_ipython()):\n",
    "        !pip install git+https://github.com/perrin-isir/gym-gmazes.git\n",
    "        clear_output()\n",
    "        import gym_gmazes\n",
    "    else:\n",
    "        sys.exit(\"ImportError: gym_gmazes not found.\")\n",
    "\n",
    "# remove warnings from tensorflow_probability, a library used by the TQC and SAC agents in xpag\n",
    "# (\"WARNING:root:The use of `check_types` is deprecated and does not have any effect.)\n",
    "import logging\n",
    "logger = logging.getLogger()\n",
    "\n",
    "\n",
    "class CheckTypesFilter(logging.Filter):\n",
    "    def filter(self, record):\n",
    "        return \"check_types\" not in record.getMessage()\n",
    "\n",
    "\n",
    "logger.addFilter(CheckTypesFilter())"
   ]
  },
  {
   "cell_type": "markdown",
   "id": "44ac3353",
   "metadata": {},
   "source": [
    "We first define the training and eval environments:"
   ]
  },
  {
   "cell_type": "code",
   "execution_count": null,
   "id": "ea6e4f6d",
   "metadata": {},
   "outputs": [],
   "source": [
    "num_envs = 10  # the number of rollouts in parallel during training\n",
    "env, eval_env, env_info = gym_vec_env('GMazeGoalDubins-v0', num_envs)"
   ]
  },
  {
   "cell_type": "markdown",
   "id": "c93d8425",
   "metadata": {},
   "source": [
    "We set the walls of the maze:"
   ]
  },
  {
   "cell_type": "code",
   "execution_count": null,
   "id": "c4491f84",
   "metadata": {},
   "outputs": [],
   "source": [
    "walls = [([0.0, 1.01], [0.0, -0.5])]\n",
    "env.set_walls(walls)\n",
    "eval_env.set_walls(walls)"
   ]
  },
  {
   "cell_type": "markdown",
   "id": "eef6461c",
   "metadata": {},
   "source": [
    "We then define the agent, the sampler, the buffer and the setter:"
   ]
  },
  {
   "cell_type": "code",
   "execution_count": null,
   "id": "9accd54f",
   "metadata": {},
   "outputs": [],
   "source": [
    "agent = TQC(\n",
    "    env_info['observation_dim'] if not env_info['is_goalenv']\n",
    "    else env_info['observation_dim'] + env_info['desired_goal_dim'],\n",
    "    env_info['action_dim'],\n",
    "    {}\n",
    ")\n",
    "sampler = DefaultEpisodicSampler() if not env_info['is_goalenv'] else HER(env.compute_reward)\n",
    "buffer = DefaultEpisodicBuffer(\n",
    "    max_episode_steps=env_info['max_episode_steps'],\n",
    "    buffer_size=1_000_000,\n",
    "    sampler=sampler\n",
    ")\n",
    "setter = DefaultSetter()"
   ]
  },
  {
   "cell_type": "markdown",
   "id": "f03b221d",
   "metadata": {},
   "source": [
    "We set the hyperparameters:"
   ]
  },
  {
   "cell_type": "code",
   "execution_count": null,
   "id": "0e370f3d",
   "metadata": {},
   "outputs": [],
   "source": [
    "batch_size = 256\n",
    "gd_steps_per_step = 1\n",
    "start_training_after_x_steps = env_info['max_episode_steps'] * 10\n",
    "max_steps = 10_000_000\n",
    "evaluate_every_x_steps = 5_000\n",
    "save_agent_every_x_steps = 100_000\n",
    "save_dir = os.path.join(os.path.expanduser('~'), 'results', 'xpag', 'train_gmazes')\n",
    "save_episode = True\n",
    "def plot_projection(x):\n",
    "    return x[0:2]"
   ]
  },
  {
   "cell_type": "markdown",
   "id": "663a7b90",
   "metadata": {},
   "source": [
    "Finally, we run the training loop. Reliable reaching of the targets should be achieved quickly (in less than 10k steps)."
   ]
  },
  {
   "cell_type": "code",
   "execution_count": null,
   "id": "2c7d1663",
   "metadata": {},
   "outputs": [],
   "source": [
    "learn(\n",
    "    env,\n",
    "    eval_env,\n",
    "    env_info,\n",
    "    agent,\n",
    "    buffer,\n",
    "    setter,\n",
    "    batch_size,\n",
    "    gd_steps_per_step,\n",
    "    start_training_after_x_steps,\n",
    "    max_steps,\n",
    "    evaluate_every_x_steps,\n",
    "    save_agent_every_x_steps,\n",
    "    save_dir,\n",
    "    save_episode,\n",
    "    plot_projection,\n",
    ")"
   ]
  },
  {
   "cell_type": "markdown",
   "id": "eaa22697",
   "metadata": {},
   "source": [
    "After stopping the training, we can display the evaluation episodes (they can also be displayed during the training as they are iteratively saved in `~/results/xpag/train_gmazes/plots`, i.e. `/root/results/xpag/train_gmazes/plots` in Colab)."
   ]
  },
  {
   "cell_type": "code",
   "execution_count": null,
   "id": "6b32dd91",
   "metadata": {},
   "outputs": [],
   "source": [
    "@interact\n",
    "def show_images(file=sorted(os.listdir(os.path.join(save_dir, 'plots')))):\n",
    "    display(Image(filename = os.path.join(save_dir, 'plots', file)))"
   ]
  }
 ],
 "metadata": {
  "kernelspec": {
   "display_name": "Python 3 (ipykernel)",
   "language": "python",
   "name": "python3"
  },
  "language_info": {
   "codemirror_mode": {
    "name": "ipython",
    "version": 3
   },
   "file_extension": ".py",
   "mimetype": "text/x-python",
   "name": "python",
   "nbconvert_exporter": "python",
   "pygments_lexer": "ipython3",
   "version": "3.9.13"
  }
 },
 "nbformat": 4,
 "nbformat_minor": 5
}
