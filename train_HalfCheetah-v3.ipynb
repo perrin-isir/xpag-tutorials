{
 "cells": [
  {
   "cell_type": "markdown",
   "id": "3f044ad5",
   "metadata": {},
   "source": [
    "This colab runs best using a GPU runtime.  From the Colab menu, choose Runtime > Change Runtime Type, then select **'GPU'**."
   ]
  },
  {
   "cell_type": "code",
   "execution_count": null,
   "id": "86999bd3",
   "metadata": {},
   "outputs": [],
   "source": [
    "!apt-get install -y \\\n",
    "    libgl1-mesa-dev \\\n",
    "    libgl1-mesa-glx \\\n",
    "    libglew-dev \\\n",
    "    libosmesa6-dev \\\n",
    "    software-properties-common\n",
    "\n",
    "!apt-get install -y patchelf"
   ]
  },
  {
   "cell_type": "code",
   "execution_count": null,
   "id": "198409f7",
   "metadata": {},
   "outputs": [],
   "source": [
    "!pip install gym\n",
    "!pip install free-mujoco-py"
   ]
  },
  {
   "cell_type": "code",
   "execution_count": null,
   "id": "cfd33c96",
   "metadata": {},
   "outputs": [],
   "source": [
    "from IPython.display import HTML, clear_output\n",
    "# import jax:\n",
    "import jax"
   ]
  },
  {
   "cell_type": "code",
   "execution_count": null,
   "id": "3d1f561e",
   "metadata": {},
   "outputs": [],
   "source": [
    "# import brax\n",
    "try:\n",
    "  import brax\n",
    "except ImportError:\n",
    "  !pip install git+https://github.com/google/brax.git@main\n",
    "  clear_output()\n",
    "  import brax"
   ]
  },
  {
   "cell_type": "code",
   "execution_count": null,
   "id": "93cd43ce",
   "metadata": {},
   "outputs": [],
   "source": [
    "# xpag install and import:\n",
    "try:\n",
    "    import xpag\n",
    "except ImportError:\n",
    "    !pip install git+https://github.com/perrin-isir/xpag.git\n",
    "    clear_output()\n",
    "    import xpag\n",
    "from xpag.wrappers import gym_vec_env\n",
    "from xpag.buffers import DefaultEpisodicBuffer\n",
    "from xpag.samplers import DefaultEpisodicSampler, HER\n",
    "from xpag.goalsetters import DefaultGoalSetter\n",
    "from xpag.agents import SAC\n",
    "from xpag.tools import learn"
   ]
  },
  {
   "cell_type": "code",
   "execution_count": null,
   "id": "05a2712d",
   "metadata": {},
   "outputs": [],
   "source": [
    "# verifying GPU backend for jax:\n",
    "assert(jax.lib.xla_bridge.get_backend().platform == 'gpu')"
   ]
  },
  {
   "cell_type": "markdown",
   "id": "44ac3353",
   "metadata": {},
   "source": [
    "We first define the training and eval environments:"
   ]
  },
  {
   "cell_type": "code",
   "execution_count": null,
   "id": "ea6e4f6d",
   "metadata": {},
   "outputs": [],
   "source": [
    "num_envs = 5  # the number of rollouts in parallel during training\n",
    "env, eval_env, env_info = gym_vec_env('HalfCheetah-v3', num_envs)"
   ]
  },
  {
   "cell_type": "markdown",
   "id": "eef6461c",
   "metadata": {},
   "source": [
    "We then define the agent, the buffer and the goal-setter:"
   ]
  },
  {
   "cell_type": "code",
   "execution_count": null,
   "id": "9accd54f",
   "metadata": {},
   "outputs": [],
   "source": [
    "agent = SAC(\n",
    "    env_info['observation_dim'] if not env_info['is_goalenv']\n",
    "    else env_info['observation_dim'] + env_info['desired_goal_dim'],\n",
    "    env_info['action_dim'],\n",
    "    {}\n",
    ")\n",
    "sampler = DefaultEpisodicSampler() if not env_info['is_goalenv'] else HER()\n",
    "buffer = DefaultEpisodicBuffer(\n",
    "    max_episode_steps=env_info['max_episode_steps'],\n",
    "    buffer_size=1_000_000,\n",
    "    sampler=sampler\n",
    ")\n",
    "goalsetter = DefaultGoalSetter()"
   ]
  },
  {
   "cell_type": "markdown",
   "id": "f03b221d",
   "metadata": {},
   "source": [
    "We set the hyperparameters:"
   ]
  },
  {
   "cell_type": "code",
   "execution_count": null,
   "id": "0e370f3d",
   "metadata": {},
   "outputs": [],
   "source": [
    "batch_size = 256\n",
    "gd_steps_per_step = 1\n",
    "start_training_after_x_steps = env_info['max_episode_steps'] * 10\n",
    "max_steps = 10_000_000\n",
    "evaluate_every_x_steps = 5_000\n",
    "save_agent_every_x_steps = 20_000\n",
    "save_dir = None\n",
    "save_episode = False\n",
    "plot_projection = None"
   ]
  },
  {
   "cell_type": "markdown",
   "id": "663a7b90",
   "metadata": {},
   "source": [
    "Finally, we run the training loop:"
   ]
  },
  {
   "cell_type": "code",
   "execution_count": null,
   "id": "2c7d1663",
   "metadata": {},
   "outputs": [],
   "source": [
    "learn(\n",
    "    env,\n",
    "    eval_env,\n",
    "    env_info,\n",
    "    agent,\n",
    "    buffer,\n",
    "    goalsetter,\n",
    "    batch_size,\n",
    "    gd_steps_per_step,\n",
    "    start_training_after_x_steps,\n",
    "    max_steps,\n",
    "    evaluate_every_x_steps,\n",
    "    save_agent_every_x_steps,\n",
    "    save_dir,\n",
    "    save_episode,\n",
    "    plot_projection,\n",
    ")"
   ]
  },
  {
   "cell_type": "code",
   "execution_count": null,
   "id": "2c76feaa",
   "metadata": {},
   "outputs": [],
   "source": []
  }
 ],
 "metadata": {
  "kernelspec": {
   "display_name": "Python 3 (ipykernel)",
   "language": "python",
   "name": "python3"
  },
  "language_info": {
   "codemirror_mode": {
    "name": "ipython",
    "version": 3
   },
   "file_extension": ".py",
   "mimetype": "text/x-python",
   "name": "python",
   "nbconvert_exporter": "python",
   "pygments_lexer": "ipython3",
   "version": "3.9.9"
  }
 },
 "nbformat": 4,
 "nbformat_minor": 5
}
