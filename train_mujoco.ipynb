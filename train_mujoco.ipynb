{
 "cells": [
  {
   "cell_type": "markdown",
   "id": "3f044ad5",
   "metadata": {},
   "source": [
    "<a href=\"https://colab.research.google.com/github/perrin-isir/xpag-tutorials/blob/main/train_mujoco.ipynb\"> <img align=\"left\" src=\"https://colab.research.google.com/assets/colab-badge.svg\" alt=\"Open in Colab\" title=\"Open in Google Colaboratory\"></a>\n",
    "<a id=\"raw-url\" href=\"https://raw.githubusercontent.com/perrin-isir/xpag-tutorials/main/train_mujoco.ipynb\" download> <img align=\"left\" src=\"https://img.shields.io/badge/Github-Download%20(Right%20click%20%2B%20Save%20link%20as...)-blue\" alt=\"Download (Right click + Save link as)\" title=\"Download Notebook\"></a>"
   ]
  },
  {
   "cell_type": "markdown",
   "id": "d518b23c",
   "metadata": {},
   "source": [
    "**IMPORTANT:** This notebook runs best using a GPU runtime.  \n",
    "In Colab: from the Colab menu, choose Runtime > Change Runtime Type, then select **'GPU'**."
   ]
  },
  {
   "cell_type": "code",
   "execution_count": null,
   "id": "1baf09ef",
   "metadata": {},
   "outputs": [],
   "source": [
    "import os\n",
    "import sys\n",
    "import PIL\n",
    "import importlib\n",
    "from packaging import version\n",
    "from IPython import get_ipython\n",
    "from IPython.display import clear_output, HTML, display\n",
    "import inspect\n",
    "import jax\n",
    "# verifying GPU backend for jax:\n",
    "assert(jax.lib.xla_bridge.get_backend().platform == 'gpu')\n",
    "\n",
    "if 'google.colab' in str(get_ipython()) and version.parse(PIL.__version__) < version.parse(\"9.0.1\"):\n",
    "    # upgrading PIL\n",
    "    !pip install --upgrade Pillow\n",
    "    # to avoid restarting the runtime, reload specific functions:\n",
    "    module_list = []\n",
    "    for m in PIL.__dict__:\n",
    "        if inspect.ismodule(PIL.__dict__[m]):\n",
    "            module_list.append(PIL.__dict__[m])\n",
    "    for mod in module_list:\n",
    "        importlib.reload(mod)\n",
    "    clear_output()"
   ]
  },
  {
   "cell_type": "code",
   "execution_count": null,
   "id": "86999bd3",
   "metadata": {},
   "outputs": [],
   "source": [
    "# mujoco install:\n",
    "if 'google.colab' in str(get_ipython()):\n",
    "    !pip install mujoco\n",
    "\n",
    "clear_output()"
   ]
  },
  {
   "cell_type": "markdown",
   "id": "c4292b2e",
   "metadata": {},
   "source": [
    "xpag import:"
   ]
  },
  {
   "cell_type": "code",
   "execution_count": null,
   "id": "cfd33c96",
   "metadata": {},
   "outputs": [],
   "source": [
    "try:\n",
    "    import xpag\n",
    "except ImportError:\n",
    "    if 'google.colab' in str(get_ipython()):\n",
    "        !pip install git+https://github.com/perrin-isir/xpag.git\n",
    "        clear_output()\n",
    "        import xpag\n",
    "    else:\n",
    "        sys.exit(\"ImportError: xpag not found.\")\n",
    "from xpag.wrappers import gym_vec_env\n",
    "from xpag.buffers import DefaultBuffer\n",
    "from xpag.samplers import DefaultSampler\n",
    "from xpag.setters import DefaultSetter\n",
    "from xpag.agents import SAC\n",
    "from xpag.tools import learn\n",
    "from xpag.tools import mujoco_notebook_replay\n",
    "\n",
    "# remove warnings from tensorflow_probability, a library used by the SAC agent in xpag\n",
    "# (\"WARNING:root:The use of `check_types` is deprecated and does not have any effect.)\n",
    "import logging\n",
    "logger = logging.getLogger()\n",
    "\n",
    "\n",
    "class CheckTypesFilter(logging.Filter):\n",
    "    def filter(self, record):\n",
    "        return \"check_types\" not in record.getMessage()\n",
    "\n",
    "\n",
    "logger.addFilter(CheckTypesFilter())"
   ]
  },
  {
   "cell_type": "markdown",
   "id": "44ac3353",
   "metadata": {},
   "source": [
    "We first define the training and eval environments:"
   ]
  },
  {
   "cell_type": "code",
   "execution_count": null,
   "id": "ea6e4f6d",
   "metadata": {},
   "outputs": [],
   "source": [
    "num_envs = 10  # the number of rollouts in parallel during training\n",
    "env, eval_env, env_info = gym_vec_env('HalfCheetah-v4', num_envs)"
   ]
  },
  {
   "cell_type": "markdown",
   "id": "eef6461c",
   "metadata": {},
   "source": [
    "We then define the agent, the sampler, the buffer and the setter (the DefaultSetter does nothing):"
   ]
  },
  {
   "cell_type": "code",
   "execution_count": null,
   "id": "9accd54f",
   "metadata": {},
   "outputs": [],
   "source": [
    "agent = SAC(\n",
    "    env_info['observation_dim'] if not env_info['is_goalenv']\n",
    "    else env_info['observation_dim'] + env_info['desired_goal_dim'],\n",
    "    env_info['action_dim'],\n",
    "    {\n",
    "        \"actor_lr\": 3e-3,\n",
    "        \"critic_lr\": 3e-3,\n",
    "        \"tau\": 5e-2,\n",
    "        \"seed\": 0\n",
    "    }\n",
    ")\n",
    "sampler = DefaultSampler()\n",
    "buffer = DefaultBuffer(\n",
    "    buffer_size=1_000_000,\n",
    "    sampler=sampler\n",
    ")\n",
    "setter = DefaultSetter()"
   ]
  },
  {
   "cell_type": "markdown",
   "id": "f03b221d",
   "metadata": {},
   "source": [
    "We set the hyperparameters:"
   ]
  },
  {
   "cell_type": "code",
   "execution_count": null,
   "id": "0e370f3d",
   "metadata": {},
   "outputs": [],
   "source": [
    "batch_size = 256\n",
    "gd_steps_per_step = 1\n",
    "start_training_after_x_steps = env_info['max_episode_steps'] * 10\n",
    "max_steps = 10_000_000\n",
    "evaluate_every_x_steps = 5_000\n",
    "save_agent_every_x_steps = 100_000\n",
    "save_dir = os.path.join(os.path.expanduser('~'), 'results', 'xpag', 'train_mujoco')\n",
    "save_episode = True\n",
    "plot_projection = None\n",
    "seed = 0"
   ]
  },
  {
   "cell_type": "markdown",
   "id": "663a7b90",
   "metadata": {},
   "source": [
    "Finally, we run the training loop.  \n",
    "In Colab, it should take just over 11 seconds for every 5k steps, and usually, interesting results (reward > 7000) start to be obtained a little before 100k steps. Remark: even with fixed seeds, JAX/XLA is not deterministic on GPU, so results vary."
   ]
  },
  {
   "cell_type": "code",
   "execution_count": null,
   "id": "2c7d1663",
   "metadata": {},
   "outputs": [],
   "source": [
    "learn(\n",
    "    env,\n",
    "    eval_env,\n",
    "    env_info,\n",
    "    agent,\n",
    "    buffer,\n",
    "    setter,\n",
    "    batch_size=batch_size,\n",
    "    gd_steps_per_step=gd_steps_per_step,\n",
    "    start_training_after_x_steps=start_training_after_x_steps,\n",
    "    max_steps=max_steps,\n",
    "    evaluate_every_x_steps=evaluate_every_x_steps,\n",
    "    save_agent_every_x_steps=save_agent_every_x_steps,\n",
    "    save_dir=save_dir,\n",
    "    save_episode=save_episode,\n",
    "    plot_projection=plot_projection,\n",
    "    custom_eval_function=None,\n",
    "    additional_step_keys=None,\n",
    "    seed=seed\n",
    ")"
   ]
  },
  {
   "cell_type": "markdown",
   "id": "e7d1049d",
   "metadata": {},
   "source": [
    "After stopping (manually) the training, we can replay the last evaluation episode.  \n",
    "**Remark:** if this notebook is executed in Colab, the animation is really slow, because the rendering of images is done on the server side. You can use the \"Generate gif\" button instead, which saves the episode as a gif (in Colab, use the file-explorer pane on the left to display or download the file), or the \"Generate mp4\" button, which saves the episode as an mp4 video."
   ]
  },
  {
   "cell_type": "code",
   "execution_count": null,
   "id": "dac254bf",
   "metadata": {},
   "outputs": [],
   "source": [
    "if 'google.colab' in str(get_ipython()):\n",
    "    os.environ['MUJOCO_GL'] = \"egl\"\n",
    "display(HTML('''<link rel=\"stylesheet\" href=\"https://stackpath.bootstrapcdn.com/font-awesome/4.7.0/css/font-awesome.min.css\"> '''))\n",
    "mujoco_notebook_replay(save_dir)"
   ]
  }
 ],
 "metadata": {
  "kernelspec": {
   "display_name": "Python 3 (ipykernel)",
   "language": "python",
   "name": "python3"
  },
  "language_info": {
   "codemirror_mode": {
    "name": "ipython",
    "version": 3
   },
   "file_extension": ".py",
   "mimetype": "text/x-python",
   "name": "python",
   "nbconvert_exporter": "python",
   "pygments_lexer": "ipython3",
   "version": "3.10.12"
  }
 },
 "nbformat": 4,
 "nbformat_minor": 5
}
